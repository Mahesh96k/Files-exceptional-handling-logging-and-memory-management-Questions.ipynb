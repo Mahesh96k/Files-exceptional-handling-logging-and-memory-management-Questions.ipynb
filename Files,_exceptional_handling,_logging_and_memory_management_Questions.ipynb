{
  "nbformat": 4,
  "nbformat_minor": 0,
  "metadata": {
    "colab": {
      "provenance": []
    },
    "kernelspec": {
      "name": "python3",
      "display_name": "Python 3"
    },
    "language_info": {
      "name": "python"
    }
  },
  "cells": [
    {
      "cell_type": "markdown",
      "source": [
        "# Files, exceptional handling, logging and memory management Questions\n"
      ],
      "metadata": {
        "id": "Uo1QwIaxH2oo"
      }
    },
    {
      "cell_type": "markdown",
      "source": [
        "01. Difference between interpreted and compiled languages?\n",
        "\n",
        "Interpreted languages run line by line (like Python), while compiled ones are converted into machine code before execution (like C++). Interpreted ones are easier to debug but generally slower.\n",
        "\n",
        "02. What is exception handling in Python?\n",
        "\n",
        "It’s a way to deal with errors during runtime using try, except, and other related blocks so your program doesn’t crash unexpectedly.\n",
        "\n",
        "03. Purpose of the finally block?\n",
        "\n",
        "The finally block runs no matter what—whether there’s an error or not. It’s often used for cleanup tasks like closing files.\n",
        "\n",
        "04. What is logging in Python?\n",
        "\n",
        "Logging helps you keep track of events in your program. It’s super helpful for debugging and monitoring applications.\n",
        "\n",
        "05. Significance of __del__ method?\n",
        "\n",
        "__del__ is a destructor method in Python that’s called when an object is deleted. It can be used to free resources or clean up.\n",
        "\n",
        "06. Difference between import and from ... import?\n",
        "\n",
        "import brings in the whole module, while from ... import lets you pull in specific parts of it, making the code a bit cleaner.\n",
        "\n",
        "07. How to handle multiple exceptions?\n",
        "\n",
        "You can catch multiple exceptions by using multiple except blocks or a single block with a tuple of exceptions.\n",
        "\n",
        "08. Purpose of with statement for files?\n",
        "\n",
        "It automatically manages file opening and closing, even if an error occurs. Super handy and clean.\n",
        "\n",
        "09. Multithreading vs multiprocessing?\n",
        "\n",
        "Multithreading runs multiple threads in a single process (good for I/O tasks), while multiprocessing runs separate processes (better for CPU-heavy tasks).\n",
        "\n",
        "10. Advantages of using logging?\n",
        "\n",
        "Logging gives you a way to track events, errors, and warnings in your code, which is helpful for debugging and understanding how your app behaves.\n",
        "\n",
        "11. What is memory management in Python?\n",
        "\n",
        "It’s how Python allocates and frees up memory as your program runs. Python does this mostly automatically using reference counting and garbage collection.\n",
        "\n",
        "12. Basic steps in exception handling?\n",
        "\n",
        "Use try to write code that might fail, except to handle the error, else for code that runs if no error occurs, and finally for cleanup.\n",
        "\n",
        "13. Why is memory management important?\n",
        "\n",
        "It ensures that your program runs efficiently without consuming unnecessary resources or crashing due to memory leaks.\n",
        "\n",
        "14. Role of try and except in Python?\n",
        "\n",
        "They let you test risky code (try) and respond gracefully if something goes wrong (except), avoiding crashes.\n",
        "\n",
        "15. How does garbage collection work?\n",
        "\n",
        "Python uses reference counting and a garbage collector to automatically free memory used by objects no longer in use.\n",
        "\n",
        "16. Purpose of the else block in exception handling?\n",
        "\n",
        "The else block runs if no exceptions are raised in the try. It’s a good place for code that should only run when everything goes fine.\n",
        "\n",
        "17. Common logging levels in Python?\n",
        "\n",
        "The main levels are DEBUG, INFO, WARNING, ERROR, and CRITICAL. They help categorize how serious an event is.\n",
        "\n",
        "18. Difference between os.fork() and multiprocessing?\n",
        "\n",
        "os.fork() is a low-level way to create processes on Unix. multiprocessing is a higher-level, cross-platform way to work with multiple processes.\n",
        "\n",
        "19. Importance of closing a file?\n",
        "\n",
        "If you don’t close files, you might run into memory leaks or locked files. It’s just good hygiene when working with files.\n",
        "\n",
        "20. Difference between file.read() and file.readline()?\n",
        "\n",
        "read() reads the whole file as a string, while readline() reads just one line at a time.\n",
        "\n",
        "21. What is the logging module used for?\n",
        "\n",
        "It’s used to record messages about your program’s execution, which helps with debugging, tracking bugs, or analyzing performance.\n",
        "\n",
        "22. Use of the os module in file handling?\n",
        "\n",
        "The os module helps you interact with the file system—creating, deleting, or checking file paths and directories.\n",
        "\n",
        "23. Challenges in memory management?\n",
        "\n",
        "Managing memory leaks, circular references, and optimizing performance can be tricky, especially in large or long-running apps.\n",
        "\n",
        "24. How to raise an exception manually?\n",
        "\n",
        "You can use the raise keyword followed by an exception. For example: raise ValueError(\"Invalid input!\")\n",
        "\n",
        "25. Why use multithreading in some applications?\n",
        "\n",
        "It helps you do multiple things at once—like downloading files or handling user input—without freezing your program."
      ],
      "metadata": {
        "id": "E_ergMFHctMf"
      }
    },
    {
      "cell_type": "markdown",
      "source": [],
      "metadata": {
        "id": "scRswc0sAIq4"
      }
    },
    {
      "cell_type": "code",
      "source": [],
      "metadata": {
        "id": "aDQo6A6LfEM-"
      },
      "execution_count": null,
      "outputs": []
    },
    {
      "cell_type": "code",
      "source": [
        "# 01 How can you open a file for writing in Python and write a string to it\n",
        "\n",
        "with open(\"example.txt\", \"w\") as file:\n",
        "    file.write(\"Hello, this is a test string.\")\n"
      ],
      "metadata": {
        "id": "XhhrzftSfFED"
      },
      "execution_count": null,
      "outputs": []
    },
    {
      "cell_type": "code",
      "source": [
        "# 02.Write a Python program to read the contents of a file and print each line\n",
        "\n",
        "# Open the file in read mode\n",
        "with open(\"example.txt\", \"r\") as file:\n",
        "    # Loop through each line and print it\n",
        "    for line in file:\n",
        "        print(line.strip())  # strip() removes extra newline characters\n"
      ],
      "metadata": {
        "colab": {
          "base_uri": "https://localhost:8080/"
        },
        "id": "FcAZfbZ3fmsy",
        "outputId": "be3482f3-fcb0-4261-9f8f-8c46ecd98709"
      },
      "execution_count": null,
      "outputs": [
        {
          "output_type": "stream",
          "name": "stdout",
          "text": [
            "Hello, this is a test string.\n"
          ]
        }
      ]
    },
    {
      "cell_type": "code",
      "source": [
        "# 03. How would you handle a case where the file doesn't exist while trying to open it for reading?\n",
        "\n",
        "filename = \"example.txt\"\n",
        "\n",
        "try:\n",
        "  with open(filename, \"r\") as file:\n",
        "    content = file.read()\n",
        "    print(content)\n",
        "except FileNotFoundError:\n",
        "  print(f\"The file '{filename}' does not exist.\")"
      ],
      "metadata": {
        "colab": {
          "base_uri": "https://localhost:8080/"
        },
        "id": "poDFGEL2Me-t",
        "outputId": "bfb2ebf1-df02-4ed3-84a6-78cc613d5d09"
      },
      "execution_count": null,
      "outputs": [
        {
          "output_type": "stream",
          "name": "stdout",
          "text": [
            "The file 'example.txt' does not exist.\n"
          ]
        }
      ]
    },
    {
      "cell_type": "code",
      "source": [
        "# 04. Write a Python script that reads from one file and writes its content to another file?\n",
        "\n",
        "source_file = \"source.txt\"\n",
        "destination_file = \"destination.txt\"\n",
        "\n",
        "try:\n",
        "  with open(source_file, \"r\") as source, open(destination_file, \"w\") as destination:\n",
        "    content = source.read()\n",
        "    destination.write(content)\n",
        "    print(f\"Content from '{source_file}' has been copied to '{destination_file}'.\")\n",
        "except FileNotFoundError:\n",
        "  print(f\"One of the files ('{source_file}' or '{destination_file}') does not exist.\")"
      ],
      "metadata": {
        "colab": {
          "base_uri": "https://localhost:8080/"
        },
        "id": "6EjgIx7CM97K",
        "outputId": "e82db40c-e76b-40de-8360-06b6ca3f491b"
      },
      "execution_count": null,
      "outputs": [
        {
          "output_type": "stream",
          "name": "stdout",
          "text": [
            "One of the files ('source.txt' or 'destination.txt') does not exist.\n"
          ]
        }
      ]
    },
    {
      "cell_type": "code",
      "source": [
        "# 05.How would you catch and handle division by zero error in Python?\n",
        "\n",
        "try:\n",
        "  result = 10 / 0\n",
        "except ZeroDivisionError:\n",
        "  print(\"Error: Division by zero is not allowed.\")"
      ],
      "metadata": {
        "colab": {
          "base_uri": "https://localhost:8080/"
        },
        "id": "im4c_ejdNbQM",
        "outputId": "fe806441-9a22-40aa-d738-192cde7d1700"
      },
      "execution_count": null,
      "outputs": [
        {
          "output_type": "stream",
          "name": "stdout",
          "text": [
            "Error: Division by zero is not allowed.\n"
          ]
        }
      ]
    },
    {
      "cell_type": "code",
      "source": [
        "# 06. Write a Python program that logs an error message to a log file when a division by zero exception occurs.\n",
        "\n",
        "import logging\n",
        "\n",
        "logging.basicConfig(filename='error.log', level=logging.ERROR)\n",
        "\n",
        "try:\n",
        "    result = 10 / 0\n",
        "except ZeroDivisionError as e:\n",
        "    logging.error(\"Division by zero error: %s\", e)\n"
      ],
      "metadata": {
        "id": "_qKpDLCAN_jK",
        "colab": {
          "base_uri": "https://localhost:8080/"
        },
        "outputId": "5a520746-a0bd-4c21-e138-1550490fbe7f"
      },
      "execution_count": 1,
      "outputs": [
        {
          "output_type": "stream",
          "name": "stderr",
          "text": [
            "ERROR:root:Division by zero error: division by zero\n"
          ]
        }
      ]
    },
    {
      "cell_type": "code",
      "source": [
        "# 07. How do you log information at different levels (INFO, ERROR, WARNING) in Python using the logging module?\n",
        "\n",
        "import logging\n",
        "\n",
        "logging.basicConfig(level=logging.DEBUG)\n",
        "\n",
        "logging.info(\"This is an INFO message.\")\n",
        "logging.warning(\"This is a WARNING message.\")\n",
        "logging.error(\"This is an ERROR message.\")\n",
        "\n",
        "\n"
      ],
      "metadata": {
        "colab": {
          "base_uri": "https://localhost:8080/"
        },
        "id": "-5iSwyg8rC9p",
        "outputId": "ce3d4c43-7803-4a93-870f-a4c86c02f6cf"
      },
      "execution_count": 2,
      "outputs": [
        {
          "output_type": "stream",
          "name": "stderr",
          "text": [
            "WARNING:root:This is a WARNING message.\n",
            "ERROR:root:This is an ERROR message.\n"
          ]
        }
      ]
    },
    {
      "cell_type": "code",
      "source": [
        "# 08.Write a program to handle a file opening error using exception handling.\n",
        "\n",
        "try:\n",
        "    with open(\"non_existent_file.txt\", \"r\") as file:\n",
        "        content = file.read()\n",
        "except FileNotFoundError:\n",
        "    print(\"File not found.\")\n",
        "\n",
        "\n"
      ],
      "metadata": {
        "colab": {
          "base_uri": "https://localhost:8080/"
        },
        "id": "T8JlrpMVrC6x",
        "outputId": "c5490c8d-a723-4486-ce26-12fbbc43ac9e"
      },
      "execution_count": 3,
      "outputs": [
        {
          "output_type": "stream",
          "name": "stdout",
          "text": [
            "File not found.\n"
          ]
        }
      ]
    },
    {
      "cell_type": "code",
      "source": [
        "# 09. How can you read a file line by line and store its content in a list in Python?\n",
        "\n",
        "with open(\"sample.txt\", \"r\") as file:\n",
        "    lines = file.readlines()\n",
        "\n"
      ],
      "metadata": {
        "colab": {
          "base_uri": "https://localhost:8080/",
          "height": 211
        },
        "id": "p2dsE2ASrC32",
        "outputId": "911dbddd-bbdf-433d-bf80-98c263943eaf"
      },
      "execution_count": 8,
      "outputs": [
        {
          "output_type": "error",
          "ename": "FileNotFoundError",
          "evalue": "[Errno 2] No such file or directory: 'sample.txt'",
          "traceback": [
            "\u001b[0;31m---------------------------------------------------------------------------\u001b[0m",
            "\u001b[0;31mFileNotFoundError\u001b[0m                         Traceback (most recent call last)",
            "\u001b[0;32m<ipython-input-8-32aff29bd57c>\u001b[0m in \u001b[0;36m<cell line: 0>\u001b[0;34m()\u001b[0m\n\u001b[1;32m      1\u001b[0m \u001b[0;31m# 09. How can you read a file line by line and store its content in a list in Python?\u001b[0m\u001b[0;34m\u001b[0m\u001b[0;34m\u001b[0m\u001b[0m\n\u001b[1;32m      2\u001b[0m \u001b[0;34m\u001b[0m\u001b[0m\n\u001b[0;32m----> 3\u001b[0;31m \u001b[0;32mwith\u001b[0m \u001b[0mopen\u001b[0m\u001b[0;34m(\u001b[0m\u001b[0;34m\"sample.txt\"\u001b[0m\u001b[0;34m,\u001b[0m \u001b[0;34m\"r\"\u001b[0m\u001b[0;34m)\u001b[0m \u001b[0;32mas\u001b[0m \u001b[0mfile\u001b[0m\u001b[0;34m:\u001b[0m\u001b[0;34m\u001b[0m\u001b[0;34m\u001b[0m\u001b[0m\n\u001b[0m\u001b[1;32m      4\u001b[0m     \u001b[0mlines\u001b[0m \u001b[0;34m=\u001b[0m \u001b[0mfile\u001b[0m\u001b[0;34m.\u001b[0m\u001b[0mreadlines\u001b[0m\u001b[0;34m(\u001b[0m\u001b[0;34m)\u001b[0m\u001b[0;34m\u001b[0m\u001b[0;34m\u001b[0m\u001b[0m\n\u001b[1;32m      5\u001b[0m \u001b[0;34m\u001b[0m\u001b[0m\n",
            "\u001b[0;31mFileNotFoundError\u001b[0m: [Errno 2] No such file or directory: 'sample.txt'"
          ]
        }
      ]
    },
    {
      "cell_type": "code",
      "source": [
        "# 10. How can you append data to an existing file in Python?\n",
        "\n",
        "with open(\"sample.txt\", \"a\") as file:\n",
        "    file.write(\"Appended line\\n\")\n"
      ],
      "metadata": {
        "id": "776-4c_xrC1U"
      },
      "execution_count": 9,
      "outputs": []
    },
    {
      "cell_type": "code",
      "source": [
        "# 11.   Write a Python program that uses a try-except block to handle an error when attempting to access a\n",
        "# dictionary key that doesn't existF\n",
        "\n"
      ],
      "metadata": {
        "id": "i4v_y8C2rCyZ"
      },
      "execution_count": null,
      "outputs": []
    },
    {
      "cell_type": "code",
      "source": [
        "# 12. Write a program that demonstrates using multiple except blocks to handle different types of exceptions.\n",
        "data = {\"name\": \"Alice\"}\n",
        "\n",
        "try:\n",
        "    print(data[\"age\"])\n",
        "except KeyError:\n",
        "    print(\"Key 'age' does not exist.\")\n"
      ],
      "metadata": {
        "colab": {
          "base_uri": "https://localhost:8080/"
        },
        "id": "yKifbyzvrCvx",
        "outputId": "983838f8-a533-4d31-849a-d6a08b9d1549"
      },
      "execution_count": 10,
      "outputs": [
        {
          "output_type": "stream",
          "name": "stdout",
          "text": [
            "Key 'age' does not exist.\n"
          ]
        }
      ]
    },
    {
      "cell_type": "code",
      "source": [
        "# 13. How would you check if a file exists before attempting to read it in Python?\n",
        "\n",
        "import os\n",
        "\n",
        "filename = \"example.txt\"\n",
        "\n",
        "if os.path.exists(filename):\n",
        "    with open(filename, \"r\") as file:\n",
        "        content = file.read()\n",
        "        print(content)"
      ],
      "metadata": {
        "id": "T3k8-r3crCtV"
      },
      "execution_count": 11,
      "outputs": []
    },
    {
      "cell_type": "code",
      "source": [
        "# 14.Write a program that uses the logging module to log both informational and error messages\n",
        "\n",
        "import logging\n",
        "\n",
        "logging.basicConfig(level=logging.INFO)\n",
        "\n",
        "logging.info(\"This is an informational message.\")\n",
        "logging.error(\"This is an error message.\")"
      ],
      "metadata": {
        "colab": {
          "base_uri": "https://localhost:8080/"
        },
        "id": "KmjtXhNVrCrV",
        "outputId": "8147a62f-cff0-48b2-f3a5-0e360851a1d4"
      },
      "execution_count": 12,
      "outputs": [
        {
          "output_type": "stream",
          "name": "stderr",
          "text": [
            "ERROR:root:This is an error message.\n"
          ]
        }
      ]
    },
    {
      "cell_type": "code",
      "source": [
        "# 15. Write a Python program that prints the content of a file and handles the case when the file is emptyF"
      ],
      "metadata": {
        "id": "2A_z6IUmrCox"
      },
      "execution_count": null,
      "outputs": []
    },
    {
      "cell_type": "code",
      "source": [
        "# 16.Demonstrate how to use memory profiling to check the memory usage of a small programF"
      ],
      "metadata": {
        "id": "3RloqNpmrCl-"
      },
      "execution_count": null,
      "outputs": []
    },
    {
      "cell_type": "code",
      "source": [
        "# 17. Write a Python program to create and write a list of numbers to a file, one number per line\n",
        "\n",
        "numbers = [1, 2, 3, 4, 5]\n",
        "with open(\"numbers.txt\", \"w\") as file:\n",
        "    for number in numbers:\n",
        "        file.write(f\"{number}\\n\")\n"
      ],
      "metadata": {
        "id": "FN3-ze5IrCjV"
      },
      "execution_count": 13,
      "outputs": []
    },
    {
      "cell_type": "code",
      "source": [
        "# 18.How would you implement a basic logging setup that logs to a file with rotation after 1MB?\n",
        "\n"
      ],
      "metadata": {
        "id": "ntiEuJZirCYH"
      },
      "execution_count": null,
      "outputs": []
    },
    {
      "cell_type": "code",
      "source": [
        "# 19.Write a program that handles both IndexError and KeyError using a try-except block\n",
        "\n",
        "my_list = [1, 2, 3]\n",
        "\n",
        "try:\n",
        "    value = my_list[5]\n",
        "except IndexError:\n",
        "    print(\"IndexError: Index out of range.\")\n"
      ],
      "metadata": {
        "colab": {
          "base_uri": "https://localhost:8080/"
        },
        "id": "-PRgyHE4rBZU",
        "outputId": "4879ccec-7a1f-41d4-c8ff-c97d12688f54"
      },
      "execution_count": 17,
      "outputs": [
        {
          "output_type": "stream",
          "name": "stdout",
          "text": [
            "IndexError: Index out of range.\n"
          ]
        }
      ]
    },
    {
      "cell_type": "code",
      "source": [
        "# 20.How would you open a file and read its contents using a context manager in Python?\n",
        "with open(\"sample.txt\", \"r\") as file:\n",
        "    content = file.read()\n",
        "    print(content)\n"
      ],
      "metadata": {
        "colab": {
          "base_uri": "https://localhost:8080/"
        },
        "id": "WfUM1bvWsVQv",
        "outputId": "52d2e276-9bc4-4218-eff9-b59b5eb029c2"
      },
      "execution_count": 14,
      "outputs": [
        {
          "output_type": "stream",
          "name": "stdout",
          "text": [
            "Appended line\n",
            "\n"
          ]
        }
      ]
    },
    {
      "cell_type": "code",
      "source": [
        "# 21.Write a Python program that reads a file and prints the number of occurrences of a specific word"
      ],
      "metadata": {
        "id": "fEGBgUEUsVHV"
      },
      "execution_count": null,
      "outputs": []
    },
    {
      "cell_type": "code",
      "source": [
        "# 22.How can you check if a file is empty before attempting to read its contents?\n",
        "import os\n",
        "\n",
        "if os.path.exists(\"sample.txt\") and os.path.getsize(\"sample.txt\") == 0:\n",
        "    print(\"The file is empty.\")\n",
        "else:\n",
        "    print(\"The file has content.\")\n"
      ],
      "metadata": {
        "colab": {
          "base_uri": "https://localhost:8080/"
        },
        "id": "vxozfVlvsnm7",
        "outputId": "c36864cc-273a-4c15-8e5c-18a358242685"
      },
      "execution_count": 16,
      "outputs": [
        {
          "output_type": "stream",
          "name": "stdout",
          "text": [
            "The file has content.\n"
          ]
        }
      ]
    },
    {
      "cell_type": "code",
      "source": [
        "# 23.Write a Python program that writes to a log file when an error occurs during file handling.\n",
        "\n",
        "import logging\n",
        "\n",
        "logging.basicConfig(filename=\"file_error.log\", level=logging.ERROR)\n",
        "\n",
        "try:\n",
        "    with open(\"missing.txt\", \"r\") as file:\n",
        "        content = file.read()\n",
        "except Exception as e:\n",
        "    logging.error(\"Error opening file: %s\", e)\n"
      ],
      "metadata": {
        "colab": {
          "base_uri": "https://localhost:8080/"
        },
        "id": "Oc60B_p7soBK",
        "outputId": "bf1470e6-18aa-42b9-af4b-fc4de11c1e5a"
      },
      "execution_count": 15,
      "outputs": [
        {
          "output_type": "stream",
          "name": "stderr",
          "text": [
            "ERROR:root:Error opening file: [Errno 2] No such file or directory: 'missing.txt'\n"
          ]
        }
      ]
    },
    {
      "cell_type": "code",
      "source": [],
      "metadata": {
        "id": "5Q-Htf-Att89"
      },
      "execution_count": null,
      "outputs": []
    }
  ]
}